{
  "nbformat": 4,
  "nbformat_minor": 0,
  "metadata": {
    "colab": {
      "name": "Submission1.ipynb",
      "provenance": []
    },
    "kernelspec": {
      "name": "python3",
      "display_name": "Python 3"
    },
    "language_info": {
      "name": "python"
    }
  },
  "cells": [
    {
      "cell_type": "code",
      "metadata": {
        "colab": {
          "base_uri": "https://localhost:8080/",
          "height": 202
        },
        "id": "l9w-SW16ZyaM",
        "outputId": "7e9ec250-3432-4a35-e098-a6126a48e504"
      },
      "source": [
        "import pandas as pd\n",
        "import numpy as np\n",
        "import seaborn as sns\n",
        "import tensorflow as tf\n",
        "import matplotlib.pyplot as plt\n",
        "from tensorflow.keras.preprocessing.text import Tokenizer\n",
        "from tensorflow.keras.preprocessing.sequence import pad_sequences\n",
        "from sklearn.model_selection import train_test_split\n",
        "from tensorflow.keras.optimizers import Adam\n",
        "from tensorflow.keras.layers import Dense, Dropout, Embedding, Flatten, LSTM\n",
        "from scipy.stats import skew\n",
        "import string \n",
        "import re\n",
        "import nltk\n",
        "from nltk.corpus import stopwords\n",
        "from nltk.tokenize import RegexpTokenizer\n",
        "from nltk.stem import WordNetLemmatizer\n",
        "from nltk.stem.porter import PorterStemmer\n",
        "\n",
        "\n",
        "df = pd.read_csv('/content/phone_reviews.csv')\n",
        "df.head()"
      ],
      "execution_count": 1,
      "outputs": [
        {
          "output_type": "execute_result",
          "data": {
            "text/html": [
              "<div>\n",
              "<style scoped>\n",
              "    .dataframe tbody tr th:only-of-type {\n",
              "        vertical-align: middle;\n",
              "    }\n",
              "\n",
              "    .dataframe tbody tr th {\n",
              "        vertical-align: top;\n",
              "    }\n",
              "\n",
              "    .dataframe thead th {\n",
              "        text-align: right;\n",
              "    }\n",
              "</style>\n",
              "<table border=\"1\" class=\"dataframe\">\n",
              "  <thead>\n",
              "    <tr style=\"text-align: right;\">\n",
              "      <th></th>\n",
              "      <th>Unnamed: 0</th>\n",
              "      <th>mobile_names</th>\n",
              "      <th>asin</th>\n",
              "      <th>title</th>\n",
              "      <th>body</th>\n",
              "      <th>star</th>\n",
              "    </tr>\n",
              "  </thead>\n",
              "  <tbody>\n",
              "    <tr>\n",
              "      <th>0</th>\n",
              "      <td>0</td>\n",
              "      <td>Samsung Galaxy M21 (Midnight Blue, 4GB RAM, 64...</td>\n",
              "      <td>B07HGJJ559</td>\n",
              "      <td>\\nvalue money go it\\n</td>\n",
              "      <td>update 15082020never give chance regret go ah...</td>\n",
              "      <td>4</td>\n",
              "    </tr>\n",
              "    <tr>\n",
              "      <th>1</th>\n",
              "      <td>1</td>\n",
              "      <td>Samsung Galaxy M21 (Midnight Blue, 4GB RAM, 64...</td>\n",
              "      <td>B07HGJJ559</td>\n",
              "      <td>\\n\\n</td>\n",
              "      <td>title obviously monsterand good performance</td>\n",
              "      <td>5</td>\n",
              "    </tr>\n",
              "    <tr>\n",
              "      <th>2</th>\n",
              "      <td>2</td>\n",
              "      <td>Samsung Galaxy M21 (Midnight Blue, 4GB RAM, 64...</td>\n",
              "      <td>B07HGJJ559</td>\n",
              "      <td>\\nbest budget phone india\\n</td>\n",
              "      <td>brilliant camera huge battery life brilliant ...</td>\n",
              "      <td>5</td>\n",
              "    </tr>\n",
              "    <tr>\n",
              "      <th>3</th>\n",
              "      <td>3</td>\n",
              "      <td>Samsung Galaxy M21 (Midnight Blue, 4GB RAM, 64...</td>\n",
              "      <td>B07HGJJ559</td>\n",
              "      <td>\\nbattery life upto mark\\n</td>\n",
              "      <td>writing review using 6 daysi bought sumsung p...</td>\n",
              "      <td>3</td>\n",
              "    </tr>\n",
              "    <tr>\n",
              "      <th>4</th>\n",
              "      <td>4</td>\n",
              "      <td>Samsung Galaxy M21 (Midnight Blue, 4GB RAM, 64...</td>\n",
              "      <td>B07HGJJ559</td>\n",
              "      <td>\\nfeeling cheated\\n</td>\n",
              "      <td>defective product received gets 8 12 hours ch...</td>\n",
              "      <td>1</td>\n",
              "    </tr>\n",
              "  </tbody>\n",
              "</table>\n",
              "</div>"
            ],
            "text/plain": [
              "   Unnamed: 0  ... star\n",
              "0           0  ...    4\n",
              "1           1  ...    5\n",
              "2           2  ...    5\n",
              "3           3  ...    3\n",
              "4           4  ...    1\n",
              "\n",
              "[5 rows x 6 columns]"
            ]
          },
          "metadata": {},
          "execution_count": 1
        }
      ]
    },
    {
      "cell_type": "code",
      "metadata": {
        "colab": {
          "base_uri": "https://localhost:8080/"
        },
        "id": "0IWRnjX5aUic",
        "outputId": "44dc1427-d125-439f-cfe5-24ba2e431978"
      },
      "source": [
        "print(len(df))"
      ],
      "execution_count": 2,
      "outputs": [
        {
          "output_type": "stream",
          "name": "stdout",
          "text": [
            "17248\n"
          ]
        }
      ]
    },
    {
      "cell_type": "code",
      "metadata": {
        "colab": {
          "base_uri": "https://localhost:8080/"
        },
        "id": "D0C6aSg-aYGZ",
        "outputId": "e1c23706-3faa-4ddd-ae94-1f1c2af416b6"
      },
      "source": [
        "df.isnull().sum()"
      ],
      "execution_count": 3,
      "outputs": [
        {
          "output_type": "execute_result",
          "data": {
            "text/plain": [
              "Unnamed: 0      0\n",
              "mobile_names    0\n",
              "asin            0\n",
              "title           0\n",
              "body            0\n",
              "star            0\n",
              "dtype: int64"
            ]
          },
          "metadata": {},
          "execution_count": 3
        }
      ]
    },
    {
      "cell_type": "code",
      "metadata": {
        "colab": {
          "base_uri": "https://localhost:8080/",
          "height": 352
        },
        "id": "NGXMB33Haajb",
        "outputId": "7391301e-e9b1-489a-c347-231af07d0590"
      },
      "source": [
        "sns.set_style('darkgrid')\n",
        "sns.countplot(df.star)"
      ],
      "execution_count": 4,
      "outputs": [
        {
          "output_type": "stream",
          "name": "stderr",
          "text": [
            "/usr/local/lib/python3.7/dist-packages/seaborn/_decorators.py:43: FutureWarning: Pass the following variable as a keyword arg: x. From version 0.12, the only valid positional argument will be `data`, and passing other arguments without an explicit keyword will result in an error or misinterpretation.\n",
            "  FutureWarning\n"
          ]
        },
        {
          "output_type": "execute_result",
          "data": {
            "text/plain": [
              "<matplotlib.axes._subplots.AxesSubplot at 0x7fbaf2391910>"
            ]
          },
          "metadata": {},
          "execution_count": 4
        },
        {
          "output_type": "display_data",
          "data": {
            "image/png": "[encoded data removed]",
            "text/plain": [
              "<Figure size 432x288 with 1 Axes>"
            ]
          },
          "metadata": {}
        }
      ]
    },
    {
      "cell_type": "code",
      "metadata": {
        "colab": {
          "base_uri": "https://localhost:8080/",
          "height": 202
        },
        "id": "dTOVjcTgahEJ",
        "outputId": "d861c0f7-dda6-40ae-e9e5-e4165996db46"
      },
      "source": [
        "df = df.drop(columns=['Unnamed: 0','mobile_names','asin','title'])\n",
        "df.head()\n"
      ],
      "execution_count": 5,
      "outputs": [
        {
          "output_type": "execute_result",
          "data": {
            "text/html": [
              "<div>\n",
              "<style scoped>\n",
              "    .dataframe tbody tr th:only-of-type {\n",
              "        vertical-align: middle;\n",
              "    }\n",
              "\n",
              "    .dataframe tbody tr th {\n",
              "        vertical-align: top;\n",
              "    }\n",
              "\n",
              "    .dataframe thead th {\n",
              "        text-align: right;\n",
              "    }\n",
              "</style>\n",
              "<table border=\"1\" class=\"dataframe\">\n",
              "  <thead>\n",
              "    <tr style=\"text-align: right;\">\n",
              "      <th></th>\n",
              "      <th>body</th>\n",
              "      <th>star</th>\n",
              "    </tr>\n",
              "  </thead>\n",
              "  <tbody>\n",
              "    <tr>\n",
              "      <th>0</th>\n",
              "      <td>update 15082020never give chance regret go ah...</td>\n",
              "      <td>4</td>\n",
              "    </tr>\n",
              "    <tr>\n",
              "      <th>1</th>\n",
              "      <td>title obviously monsterand good performance</td>\n",
              "      <td>5</td>\n",
              "    </tr>\n",
              "    <tr>\n",
              "      <th>2</th>\n",
              "      <td>brilliant camera huge battery life brilliant ...</td>\n",
              "      <td>5</td>\n",
              "    </tr>\n",
              "    <tr>\n",
              "      <th>3</th>\n",
              "      <td>writing review using 6 daysi bought sumsung p...</td>\n",
              "      <td>3</td>\n",
              "    </tr>\n",
              "    <tr>\n",
              "      <th>4</th>\n",
              "      <td>defective product received gets 8 12 hours ch...</td>\n",
              "      <td>1</td>\n",
              "    </tr>\n",
              "  </tbody>\n",
              "</table>\n",
              "</div>"
            ],
            "text/plain": [
              "                                                body  star\n",
              "0   update 15082020never give chance regret go ah...     4\n",
              "1        title obviously monsterand good performance     5\n",
              "2   brilliant camera huge battery life brilliant ...     5\n",
              "3   writing review using 6 daysi bought sumsung p...     3\n",
              "4   defective product received gets 8 12 hours ch...     1"
            ]
          },
          "metadata": {},
          "execution_count": 5
        }
      ]
    },
    {
      "cell_type": "code",
      "metadata": {
        "colab": {
          "base_uri": "https://localhost:8080/",
          "height": 202
        },
        "id": "WpAUvBVvawLh",
        "outputId": "657d820b-9e3d-4a41-cd2e-94f108173051"
      },
      "source": [
        "string.punctuation\n",
        "\n",
        "def remove_punct(text):\n",
        "  text_nopunct = \"\".join([char for char in text if char not in string.punctuation])\n",
        "  return text_nopunct\n",
        "df['body_clean'] = df['body'].apply(lambda x: remove_punct(x))\n",
        "df.head()"
      ],
      "execution_count": 6,
      "outputs": [
        {
          "output_type": "execute_result",
          "data": {
            "text/html": [
              "<div>\n",
              "<style scoped>\n",
              "    .dataframe tbody tr th:only-of-type {\n",
              "        vertical-align: middle;\n",
              "    }\n",
              "\n",
              "    .dataframe tbody tr th {\n",
              "        vertical-align: top;\n",
              "    }\n",
              "\n",
              "    .dataframe thead th {\n",
              "        text-align: right;\n",
              "    }\n",
              "</style>\n",
              "<table border=\"1\" class=\"dataframe\">\n",
              "  <thead>\n",
              "    <tr style=\"text-align: right;\">\n",
              "      <th></th>\n",
              "      <th>body</th>\n",
              "      <th>star</th>\n",
              "      <th>body_clean</th>\n",
              "    </tr>\n",
              "  </thead>\n",
              "  <tbody>\n",
              "    <tr>\n",
              "      <th>0</th>\n",
              "      <td>update 15082020never give chance regret go ah...</td>\n",
              "      <td>4</td>\n",
              "      <td>update 15082020never give chance regret go ah...</td>\n",
              "    </tr>\n",
              "    <tr>\n",
              "      <th>1</th>\n",
              "      <td>title obviously monsterand good performance</td>\n",
              "      <td>5</td>\n",
              "      <td>title obviously monsterand good performance</td>\n",
              "    </tr>\n",
              "    <tr>\n",
              "      <th>2</th>\n",
              "      <td>brilliant camera huge battery life brilliant ...</td>\n",
              "      <td>5</td>\n",
              "      <td>brilliant camera huge battery life brilliant ...</td>\n",
              "    </tr>\n",
              "    <tr>\n",
              "      <th>3</th>\n",
              "      <td>writing review using 6 daysi bought sumsung p...</td>\n",
              "      <td>3</td>\n",
              "      <td>writing review using 6 daysi bought sumsung p...</td>\n",
              "    </tr>\n",
              "    <tr>\n",
              "      <th>4</th>\n",
              "      <td>defective product received gets 8 12 hours ch...</td>\n",
              "      <td>1</td>\n",
              "      <td>defective product received gets 8 12 hours ch...</td>\n",
              "    </tr>\n",
              "  </tbody>\n",
              "</table>\n",
              "</div>"
            ],
            "text/plain": [
              "                                                body  ...                                         body_clean\n",
              "0   update 15082020never give chance regret go ah...  ...   update 15082020never give chance regret go ah...\n",
              "1        title obviously monsterand good performance  ...        title obviously monsterand good performance\n",
              "2   brilliant camera huge battery life brilliant ...  ...   brilliant camera huge battery life brilliant ...\n",
              "3   writing review using 6 daysi bought sumsung p...  ...   writing review using 6 daysi bought sumsung p...\n",
              "4   defective product received gets 8 12 hours ch...  ...   defective product received gets 8 12 hours ch...\n",
              "\n",
              "[5 rows x 3 columns]"
            ]
          },
          "metadata": {},
          "execution_count": 6
        }
      ]
    },
    {
      "cell_type": "code",
      "metadata": {
        "colab": {
          "base_uri": "https://localhost:8080/",
          "height": 202
        },
        "id": "ltXMLbNsa5j7",
        "outputId": "49d9c577-f0bc-448f-aeeb-cca8c183ce9f"
      },
      "source": [
        "def tokenize(text):\n",
        "  tokens = re.split(\"[\\s.,!?:;'\\\"-]+{}=()\",text)\n",
        "  return tokens\n",
        "\n",
        "df['body_tokenized'] = df['body_clean'].apply(lambda x: tokenize(x.lower()))\n",
        "df.head()"
      ],
      "execution_count": 7,
      "outputs": [
        {
          "output_type": "execute_result",
          "data": {
            "text/html": [
              "<div>\n",
              "<style scoped>\n",
              "    .dataframe tbody tr th:only-of-type {\n",
              "        vertical-align: middle;\n",
              "    }\n",
              "\n",
              "    .dataframe tbody tr th {\n",
              "        vertical-align: top;\n",
              "    }\n",
              "\n",
              "    .dataframe thead th {\n",
              "        text-align: right;\n",
              "    }\n",
              "</style>\n",
              "<table border=\"1\" class=\"dataframe\">\n",
              "  <thead>\n",
              "    <tr style=\"text-align: right;\">\n",
              "      <th></th>\n",
              "      <th>body</th>\n",
              "      <th>star</th>\n",
              "      <th>body_clean</th>\n",
              "      <th>body_tokenized</th>\n",
              "    </tr>\n",
              "  </thead>\n",
              "  <tbody>\n",
              "    <tr>\n",
              "      <th>0</th>\n",
              "      <td>update 15082020never give chance regret go ah...</td>\n",
              "      <td>4</td>\n",
              "      <td>update 15082020never give chance regret go ah...</td>\n",
              "      <td>[ update 15082020never give chance regret go a...</td>\n",
              "    </tr>\n",
              "    <tr>\n",
              "      <th>1</th>\n",
              "      <td>title obviously monsterand good performance</td>\n",
              "      <td>5</td>\n",
              "      <td>title obviously monsterand good performance</td>\n",
              "      <td>[ title obviously monsterand good performance]</td>\n",
              "    </tr>\n",
              "    <tr>\n",
              "      <th>2</th>\n",
              "      <td>brilliant camera huge battery life brilliant ...</td>\n",
              "      <td>5</td>\n",
              "      <td>brilliant camera huge battery life brilliant ...</td>\n",
              "      <td>[ brilliant camera huge battery life brilliant...</td>\n",
              "    </tr>\n",
              "    <tr>\n",
              "      <th>3</th>\n",
              "      <td>writing review using 6 daysi bought sumsung p...</td>\n",
              "      <td>3</td>\n",
              "      <td>writing review using 6 daysi bought sumsung p...</td>\n",
              "      <td>[ writing review using 6 daysi bought sumsung ...</td>\n",
              "    </tr>\n",
              "    <tr>\n",
              "      <th>4</th>\n",
              "      <td>defective product received gets 8 12 hours ch...</td>\n",
              "      <td>1</td>\n",
              "      <td>defective product received gets 8 12 hours ch...</td>\n",
              "      <td>[ defective product received gets 8 12 hours c...</td>\n",
              "    </tr>\n",
              "  </tbody>\n",
              "</table>\n",
              "</div>"
            ],
            "text/plain": [
              "                                                body  ...                                     body_tokenized\n",
              "0   update 15082020never give chance regret go ah...  ...  [ update 15082020never give chance regret go a...\n",
              "1        title obviously monsterand good performance  ...     [ title obviously monsterand good performance]\n",
              "2   brilliant camera huge battery life brilliant ...  ...  [ brilliant camera huge battery life brilliant...\n",
              "3   writing review using 6 daysi bought sumsung p...  ...  [ writing review using 6 daysi bought sumsung ...\n",
              "4   defective product received gets 8 12 hours ch...  ...  [ defective product received gets 8 12 hours c...\n",
              "\n",
              "[5 rows x 4 columns]"
            ]
          },
          "metadata": {},
          "execution_count": 7
        }
      ]
    },
    {
      "cell_type": "code",
      "metadata": {
        "colab": {
          "base_uri": "https://localhost:8080/",
          "height": 254
        },
        "id": "TK7DYgQUcLPM",
        "outputId": "5c4df8ce-9a16-40e2-bc96-8d4a46ab7840"
      },
      "source": [
        "nltk.download('stopwords')\n",
        "\n",
        "stopword = nltk.corpus.stopwords.words('english')\n",
        "\n",
        "def remove_stopwords(tokenized_list):\n",
        "  text = [word for word in tokenized_list if word not in stopword]\n",
        "  return text\n",
        "\n",
        "df['body_x'] = df['body_tokenized'].apply(lambda x: remove_stopwords(x))\n",
        "df.head()"
      ],
      "execution_count": 8,
      "outputs": [
        {
          "output_type": "stream",
          "name": "stdout",
          "text": [
            "[nltk_data] Downloading package stopwords to /root/nltk_data...\n",
            "[nltk_data]   Package stopwords is already up-to-date!\n"
          ]
        },
        {
          "output_type": "execute_result",
          "data": {
            "text/html": [
              "<div>\n",
              "<style scoped>\n",
              "    .dataframe tbody tr th:only-of-type {\n",
              "        vertical-align: middle;\n",
              "    }\n",
              "\n",
              "    .dataframe tbody tr th {\n",
              "        vertical-align: top;\n",
              "    }\n",
              "\n",
              "    .dataframe thead th {\n",
              "        text-align: right;\n",
              "    }\n",
              "</style>\n",
              "<table border=\"1\" class=\"dataframe\">\n",
              "  <thead>\n",
              "    <tr style=\"text-align: right;\">\n",
              "      <th></th>\n",
              "      <th>body</th>\n",
              "      <th>star</th>\n",
              "      <th>body_clean</th>\n",
              "      <th>body_tokenized</th>\n",
              "      <th>body_x</th>\n",
              "    </tr>\n",
              "  </thead>\n",
              "  <tbody>\n",
              "    <tr>\n",
              "      <th>0</th>\n",
              "      <td>update 15082020never give chance regret go ah...</td>\n",
              "      <td>4</td>\n",
              "      <td>update 15082020never give chance regret go ah...</td>\n",
              "      <td>[ update 15082020never give chance regret go a...</td>\n",
              "      <td>[ update 15082020never give chance regret go a...</td>\n",
              "    </tr>\n",
              "    <tr>\n",
              "      <th>1</th>\n",
              "      <td>title obviously monsterand good performance</td>\n",
              "      <td>5</td>\n",
              "      <td>title obviously monsterand good performance</td>\n",
              "      <td>[ title obviously monsterand good performance]</td>\n",
              "      <td>[ title obviously monsterand good performance]</td>\n",
              "    </tr>\n",
              "    <tr>\n",
              "      <th>2</th>\n",
              "      <td>brilliant camera huge battery life brilliant ...</td>\n",
              "      <td>5</td>\n",
              "      <td>brilliant camera huge battery life brilliant ...</td>\n",
              "      <td>[ brilliant camera huge battery life brilliant...</td>\n",
              "      <td>[ brilliant camera huge battery life brilliant...</td>\n",
              "    </tr>\n",
              "    <tr>\n",
              "      <th>3</th>\n",
              "      <td>writing review using 6 daysi bought sumsung p...</td>\n",
              "      <td>3</td>\n",
              "      <td>writing review using 6 daysi bought sumsung p...</td>\n",
              "      <td>[ writing review using 6 daysi bought sumsung ...</td>\n",
              "      <td>[ writing review using 6 daysi bought sumsung ...</td>\n",
              "    </tr>\n",
              "    <tr>\n",
              "      <th>4</th>\n",
              "      <td>defective product received gets 8 12 hours ch...</td>\n",
              "      <td>1</td>\n",
              "      <td>defective product received gets 8 12 hours ch...</td>\n",
              "      <td>[ defective product received gets 8 12 hours c...</td>\n",
              "      <td>[ defective product received gets 8 12 hours c...</td>\n",
              "    </tr>\n",
              "  </tbody>\n",
              "</table>\n",
              "</div>"
            ],
            "text/plain": [
              "                                                body  ...                                             body_x\n",
              "0   update 15082020never give chance regret go ah...  ...  [ update 15082020never give chance regret go a...\n",
              "1        title obviously monsterand good performance  ...     [ title obviously monsterand good performance]\n",
              "2   brilliant camera huge battery life brilliant ...  ...  [ brilliant camera huge battery life brilliant...\n",
              "3   writing review using 6 daysi bought sumsung p...  ...  [ writing review using 6 daysi bought sumsung ...\n",
              "4   defective product received gets 8 12 hours ch...  ...  [ defective product received gets 8 12 hours c...\n",
              "\n",
              "[5 rows x 5 columns]"
            ]
          },
          "metadata": {},
          "execution_count": 8
        }
      ]
    },
    {
      "cell_type": "code",
      "metadata": {
        "colab": {
          "base_uri": "https://localhost:8080/",
          "height": 285
        },
        "id": "w3UgQ8UMcTAf",
        "outputId": "1fd4e2ab-eae4-4dab-d53d-4b2cccc8c8a8"
      },
      "source": [
        "ps = nltk.PorterStemmer()\n",
        "\n",
        "def stemming(tokenized_text):\n",
        "  text = [ps.stem(word) for word in tokenized_text]\n",
        "  return text\n",
        "\n",
        "df['body_stemmed'] =  df['body_x'].apply(lambda x: stemming(x))\n",
        "df.head()"
      ],
      "execution_count": 9,
      "outputs": [
        {
          "output_type": "execute_result",
          "data": {
            "text/html": [
              "<div>\n",
              "<style scoped>\n",
              "    .dataframe tbody tr th:only-of-type {\n",
              "        vertical-align: middle;\n",
              "    }\n",
              "\n",
              "    .dataframe tbody tr th {\n",
              "        vertical-align: top;\n",
              "    }\n",
              "\n",
              "    .dataframe thead th {\n",
              "        text-align: right;\n",
              "    }\n",
              "</style>\n",
              "<table border=\"1\" class=\"dataframe\">\n",
              "  <thead>\n",
              "    <tr style=\"text-align: right;\">\n",
              "      <th></th>\n",
              "      <th>body</th>\n",
              "      <th>star</th>\n",
              "      <th>body_clean</th>\n",
              "      <th>body_tokenized</th>\n",
              "      <th>body_x</th>\n",
              "      <th>body_stemmed</th>\n",
              "    </tr>\n",
              "  </thead>\n",
              "  <tbody>\n",
              "    <tr>\n",
              "      <th>0</th>\n",
              "      <td>update 15082020never give chance regret go ah...</td>\n",
              "      <td>4</td>\n",
              "      <td>update 15082020never give chance regret go ah...</td>\n",
              "      <td>[ update 15082020never give chance regret go a...</td>\n",
              "      <td>[ update 15082020never give chance regret go a...</td>\n",
              "      <td>[ update 15082020never give chance regret go a...</td>\n",
              "    </tr>\n",
              "    <tr>\n",
              "      <th>1</th>\n",
              "      <td>title obviously monsterand good performance</td>\n",
              "      <td>5</td>\n",
              "      <td>title obviously monsterand good performance</td>\n",
              "      <td>[ title obviously monsterand good performance]</td>\n",
              "      <td>[ title obviously monsterand good performance]</td>\n",
              "      <td>[ title obviously monsterand good perform]</td>\n",
              "    </tr>\n",
              "    <tr>\n",
              "      <th>2</th>\n",
              "      <td>brilliant camera huge battery life brilliant ...</td>\n",
              "      <td>5</td>\n",
              "      <td>brilliant camera huge battery life brilliant ...</td>\n",
              "      <td>[ brilliant camera huge battery life brilliant...</td>\n",
              "      <td>[ brilliant camera huge battery life brilliant...</td>\n",
              "      <td>[ brilliant camera huge battery life brilliant...</td>\n",
              "    </tr>\n",
              "    <tr>\n",
              "      <th>3</th>\n",
              "      <td>writing review using 6 daysi bought sumsung p...</td>\n",
              "      <td>3</td>\n",
              "      <td>writing review using 6 daysi bought sumsung p...</td>\n",
              "      <td>[ writing review using 6 daysi bought sumsung ...</td>\n",
              "      <td>[ writing review using 6 daysi bought sumsung ...</td>\n",
              "      <td>[ writing review using 6 daysi bought sumsung ...</td>\n",
              "    </tr>\n",
              "    <tr>\n",
              "      <th>4</th>\n",
              "      <td>defective product received gets 8 12 hours ch...</td>\n",
              "      <td>1</td>\n",
              "      <td>defective product received gets 8 12 hours ch...</td>\n",
              "      <td>[ defective product received gets 8 12 hours c...</td>\n",
              "      <td>[ defective product received gets 8 12 hours c...</td>\n",
              "      <td>[ defective product received gets 8 12 hours c...</td>\n",
              "    </tr>\n",
              "  </tbody>\n",
              "</table>\n",
              "</div>"
            ],
            "text/plain": [
              "                                                body  ...                                       body_stemmed\n",
              "0   update 15082020never give chance regret go ah...  ...  [ update 15082020never give chance regret go a...\n",
              "1        title obviously monsterand good performance  ...         [ title obviously monsterand good perform]\n",
              "2   brilliant camera huge battery life brilliant ...  ...  [ brilliant camera huge battery life brilliant...\n",
              "3   writing review using 6 daysi bought sumsung p...  ...  [ writing review using 6 daysi bought sumsung ...\n",
              "4   defective product received gets 8 12 hours ch...  ...  [ defective product received gets 8 12 hours c...\n",
              "\n",
              "[5 rows x 6 columns]"
            ]
          },
          "metadata": {},
          "execution_count": 9
        }
      ]
    },
    {
      "cell_type": "code",
      "metadata": {
        "colab": {
          "base_uri": "https://localhost:8080/",
          "height": 321
        },
        "id": "AatveZSrcZf-",
        "outputId": "fab96c86-d8a8-4c58-e66f-e01cf72f1bc1"
      },
      "source": [
        "nltk.download('wordnet')\n",
        "wn = nltk.WordNetLemmatizer()\n",
        "\n",
        "def lemmatizing(tokenized_text):\n",
        "  text = [wn.lemmatize(word) for word in tokenized_text]\n",
        "  return text\n",
        "\n",
        "df['body_lemmatized'] =  df['body_x'].apply(lambda x: lemmatizing(x))\n",
        "df.head()"
      ],
      "execution_count": 10,
      "outputs": [
        {
          "output_type": "stream",
          "name": "stdout",
          "text": [
            "[nltk_data] Downloading package wordnet to /root/nltk_data...\n",
            "[nltk_data]   Package wordnet is already up-to-date!\n"
          ]
        },
        {
          "output_type": "execute_result",
          "data": {
            "text/html": [
              "<div>\n",
              "<style scoped>\n",
              "    .dataframe tbody tr th:only-of-type {\n",
              "        vertical-align: middle;\n",
              "    }\n",
              "\n",
              "    .dataframe tbody tr th {\n",
              "        vertical-align: top;\n",
              "    }\n",
              "\n",
              "    .dataframe thead th {\n",
              "        text-align: right;\n",
              "    }\n",
              "</style>\n",
              "<table border=\"1\" class=\"dataframe\">\n",
              "  <thead>\n",
              "    <tr style=\"text-align: right;\">\n",
              "      <th></th>\n",
              "      <th>body</th>\n",
              "      <th>star</th>\n",
              "      <th>body_clean</th>\n",
              "      <th>body_tokenized</th>\n",
              "      <th>body_x</th>\n",
              "      <th>body_stemmed</th>\n",
              "      <th>body_lemmatized</th>\n",
              "    </tr>\n",
              "  </thead>\n",
              "  <tbody>\n",
              "    <tr>\n",
              "      <th>0</th>\n",
              "      <td>update 15082020never give chance regret go ah...</td>\n",
              "      <td>4</td>\n",
              "      <td>update 15082020never give chance regret go ah...</td>\n",
              "      <td>[ update 15082020never give chance regret go a...</td>\n",
              "      <td>[ update 15082020never give chance regret go a...</td>\n",
              "      <td>[ update 15082020never give chance regret go a...</td>\n",
              "      <td>[ update 15082020never give chance regret go a...</td>\n",
              "    </tr>\n",
              "    <tr>\n",
              "      <th>1</th>\n",
              "      <td>title obviously monsterand good performance</td>\n",
              "      <td>5</td>\n",
              "      <td>title obviously monsterand good performance</td>\n",
              "      <td>[ title obviously monsterand good performance]</td>\n",
              "      <td>[ title obviously monsterand good performance]</td>\n",
              "      <td>[ title obviously monsterand good perform]</td>\n",
              "      <td>[ title obviously monsterand good performance]</td>\n",
              "    </tr>\n",
              "    <tr>\n",
              "      <th>2</th>\n",
              "      <td>brilliant camera huge battery life brilliant ...</td>\n",
              "      <td>5</td>\n",
              "      <td>brilliant camera huge battery life brilliant ...</td>\n",
              "      <td>[ brilliant camera huge battery life brilliant...</td>\n",
              "      <td>[ brilliant camera huge battery life brilliant...</td>\n",
              "      <td>[ brilliant camera huge battery life brilliant...</td>\n",
              "      <td>[ brilliant camera huge battery life brilliant...</td>\n",
              "    </tr>\n",
              "    <tr>\n",
              "      <th>3</th>\n",
              "      <td>writing review using 6 daysi bought sumsung p...</td>\n",
              "      <td>3</td>\n",
              "      <td>writing review using 6 daysi bought sumsung p...</td>\n",
              "      <td>[ writing review using 6 daysi bought sumsung ...</td>\n",
              "      <td>[ writing review using 6 daysi bought sumsung ...</td>\n",
              "      <td>[ writing review using 6 daysi bought sumsung ...</td>\n",
              "      <td>[ writing review using 6 daysi bought sumsung ...</td>\n",
              "    </tr>\n",
              "    <tr>\n",
              "      <th>4</th>\n",
              "      <td>defective product received gets 8 12 hours ch...</td>\n",
              "      <td>1</td>\n",
              "      <td>defective product received gets 8 12 hours ch...</td>\n",
              "      <td>[ defective product received gets 8 12 hours c...</td>\n",
              "      <td>[ defective product received gets 8 12 hours c...</td>\n",
              "      <td>[ defective product received gets 8 12 hours c...</td>\n",
              "      <td>[ defective product received gets 8 12 hours c...</td>\n",
              "    </tr>\n",
              "  </tbody>\n",
              "</table>\n",
              "</div>"
            ],
            "text/plain": [
              "                                                body  ...                                    body_lemmatized\n",
              "0   update 15082020never give chance regret go ah...  ...  [ update 15082020never give chance regret go a...\n",
              "1        title obviously monsterand good performance  ...     [ title obviously monsterand good performance]\n",
              "2   brilliant camera huge battery life brilliant ...  ...  [ brilliant camera huge battery life brilliant...\n",
              "3   writing review using 6 daysi bought sumsung p...  ...  [ writing review using 6 daysi bought sumsung ...\n",
              "4   defective product received gets 8 12 hours ch...  ...  [ defective product received gets 8 12 hours c...\n",
              "\n",
              "[5 rows x 7 columns]"
            ]
          },
          "metadata": {},
          "execution_count": 10
        }
      ]
    },
    {
      "cell_type": "code",
      "metadata": {
        "colab": {
          "base_uri": "https://localhost:8080/",
          "height": 285
        },
        "id": "DoTFY4nWcl0g",
        "outputId": "ff3c2391-3bb8-4228-da44-fdccddb8176b"
      },
      "source": [
        "df['body'] = df['body_clean']\n",
        "df.head()"
      ],
      "execution_count": 11,
      "outputs": [
        {
          "output_type": "execute_result",
          "data": {
            "text/html": [
              "<div>\n",
              "<style scoped>\n",
              "    .dataframe tbody tr th:only-of-type {\n",
              "        vertical-align: middle;\n",
              "    }\n",
              "\n",
              "    .dataframe tbody tr th {\n",
              "        vertical-align: top;\n",
              "    }\n",
              "\n",
              "    .dataframe thead th {\n",
              "        text-align: right;\n",
              "    }\n",
              "</style>\n",
              "<table border=\"1\" class=\"dataframe\">\n",
              "  <thead>\n",
              "    <tr style=\"text-align: right;\">\n",
              "      <th></th>\n",
              "      <th>body</th>\n",
              "      <th>star</th>\n",
              "      <th>body_clean</th>\n",
              "      <th>body_tokenized</th>\n",
              "      <th>body_x</th>\n",
              "      <th>body_stemmed</th>\n",
              "      <th>body_lemmatized</th>\n",
              "    </tr>\n",
              "  </thead>\n",
              "  <tbody>\n",
              "    <tr>\n",
              "      <th>0</th>\n",
              "      <td>update 15082020never give chance regret go ah...</td>\n",
              "      <td>4</td>\n",
              "      <td>update 15082020never give chance regret go ah...</td>\n",
              "      <td>[ update 15082020never give chance regret go a...</td>\n",
              "      <td>[ update 15082020never give chance regret go a...</td>\n",
              "      <td>[ update 15082020never give chance regret go a...</td>\n",
              "      <td>[ update 15082020never give chance regret go a...</td>\n",
              "    </tr>\n",
              "    <tr>\n",
              "      <th>1</th>\n",
              "      <td>title obviously monsterand good performance</td>\n",
              "      <td>5</td>\n",
              "      <td>title obviously monsterand good performance</td>\n",
              "      <td>[ title obviously monsterand good performance]</td>\n",
              "      <td>[ title obviously monsterand good performance]</td>\n",
              "      <td>[ title obviously monsterand good perform]</td>\n",
              "      <td>[ title obviously monsterand good performance]</td>\n",
              "    </tr>\n",
              "    <tr>\n",
              "      <th>2</th>\n",
              "      <td>brilliant camera huge battery life brilliant ...</td>\n",
              "      <td>5</td>\n",
              "      <td>brilliant camera huge battery life brilliant ...</td>\n",
              "      <td>[ brilliant camera huge battery life brilliant...</td>\n",
              "      <td>[ brilliant camera huge battery life brilliant...</td>\n",
              "      <td>[ brilliant camera huge battery life brilliant...</td>\n",
              "      <td>[ brilliant camera huge battery life brilliant...</td>\n",
              "    </tr>\n",
              "    <tr>\n",
              "      <th>3</th>\n",
              "      <td>writing review using 6 daysi bought sumsung p...</td>\n",
              "      <td>3</td>\n",
              "      <td>writing review using 6 daysi bought sumsung p...</td>\n",
              "      <td>[ writing review using 6 daysi bought sumsung ...</td>\n",
              "      <td>[ writing review using 6 daysi bought sumsung ...</td>\n",
              "      <td>[ writing review using 6 daysi bought sumsung ...</td>\n",
              "      <td>[ writing review using 6 daysi bought sumsung ...</td>\n",
              "    </tr>\n",
              "    <tr>\n",
              "      <th>4</th>\n",
              "      <td>defective product received gets 8 12 hours ch...</td>\n",
              "      <td>1</td>\n",
              "      <td>defective product received gets 8 12 hours ch...</td>\n",
              "      <td>[ defective product received gets 8 12 hours c...</td>\n",
              "      <td>[ defective product received gets 8 12 hours c...</td>\n",
              "      <td>[ defective product received gets 8 12 hours c...</td>\n",
              "      <td>[ defective product received gets 8 12 hours c...</td>\n",
              "    </tr>\n",
              "  </tbody>\n",
              "</table>\n",
              "</div>"
            ],
            "text/plain": [
              "                                                body  ...                                    body_lemmatized\n",
              "0   update 15082020never give chance regret go ah...  ...  [ update 15082020never give chance regret go a...\n",
              "1        title obviously monsterand good performance  ...     [ title obviously monsterand good performance]\n",
              "2   brilliant camera huge battery life brilliant ...  ...  [ brilliant camera huge battery life brilliant...\n",
              "3   writing review using 6 daysi bought sumsung p...  ...  [ writing review using 6 daysi bought sumsung ...\n",
              "4   defective product received gets 8 12 hours ch...  ...  [ defective product received gets 8 12 hours c...\n",
              "\n",
              "[5 rows x 7 columns]"
            ]
          },
          "metadata": {},
          "execution_count": 11
        }
      ]
    },
    {
      "cell_type": "code",
      "metadata": {
        "colab": {
          "base_uri": "https://localhost:8080/"
        },
        "id": "MRJm8X45crJf",
        "outputId": "44a49ae2-1edb-4272-d567-16ac6a12156f"
      },
      "source": [
        "df.isnull().values.any()"
      ],
      "execution_count": 12,
      "outputs": [
        {
          "output_type": "execute_result",
          "data": {
            "text/plain": [
              "False"
            ]
          },
          "metadata": {},
          "execution_count": 12
        }
      ]
    },
    {
      "cell_type": "code",
      "metadata": {
        "colab": {
          "base_uri": "https://localhost:8080/",
          "height": 285
        },
        "id": "byXhqLBqctP8",
        "outputId": "38c67ae6-e5b9-4dc4-f181-218ae58a93cc"
      },
      "source": [
        "category = pd.get_dummies(df.star)\n",
        "df_baru = pd.concat([df, category], axis=1)\n",
        "df_baru = df_baru.drop(columns='star')\n",
        "df_baru.head()"
      ],
      "execution_count": 13,
      "outputs": [
        {
          "output_type": "execute_result",
          "data": {
            "text/html": [
              "<div>\n",
              "<style scoped>\n",
              "    .dataframe tbody tr th:only-of-type {\n",
              "        vertical-align: middle;\n",
              "    }\n",
              "\n",
              "    .dataframe tbody tr th {\n",
              "        vertical-align: top;\n",
              "    }\n",
              "\n",
              "    .dataframe thead th {\n",
              "        text-align: right;\n",
              "    }\n",
              "</style>\n",
              "<table border=\"1\" class=\"dataframe\">\n",
              "  <thead>\n",
              "    <tr style=\"text-align: right;\">\n",
              "      <th></th>\n",
              "      <th>body</th>\n",
              "      <th>body_clean</th>\n",
              "      <th>body_tokenized</th>\n",
              "      <th>body_x</th>\n",
              "      <th>body_stemmed</th>\n",
              "      <th>body_lemmatized</th>\n",
              "      <th>1</th>\n",
              "      <th>2</th>\n",
              "      <th>3</th>\n",
              "      <th>4</th>\n",
              "      <th>5</th>\n",
              "    </tr>\n",
              "  </thead>\n",
              "  <tbody>\n",
              "    <tr>\n",
              "      <th>0</th>\n",
              "      <td>update 15082020never give chance regret go ah...</td>\n",
              "      <td>update 15082020never give chance regret go ah...</td>\n",
              "      <td>[ update 15082020never give chance regret go a...</td>\n",
              "      <td>[ update 15082020never give chance regret go a...</td>\n",
              "      <td>[ update 15082020never give chance regret go a...</td>\n",
              "      <td>[ update 15082020never give chance regret go a...</td>\n",
              "      <td>0</td>\n",
              "      <td>0</td>\n",
              "      <td>0</td>\n",
              "      <td>1</td>\n",
              "      <td>0</td>\n",
              "    </tr>\n",
              "    <tr>\n",
              "      <th>1</th>\n",
              "      <td>title obviously monsterand good performance</td>\n",
              "      <td>title obviously monsterand good performance</td>\n",
              "      <td>[ title obviously monsterand good performance]</td>\n",
              "      <td>[ title obviously monsterand good performance]</td>\n",
              "      <td>[ title obviously monsterand good perform]</td>\n",
              "      <td>[ title obviously monsterand good performance]</td>\n",
              "      <td>0</td>\n",
              "      <td>0</td>\n",
              "      <td>0</td>\n",
              "      <td>0</td>\n",
              "      <td>1</td>\n",
              "    </tr>\n",
              "    <tr>\n",
              "      <th>2</th>\n",
              "      <td>brilliant camera huge battery life brilliant ...</td>\n",
              "      <td>brilliant camera huge battery life brilliant ...</td>\n",
              "      <td>[ brilliant camera huge battery life brilliant...</td>\n",
              "      <td>[ brilliant camera huge battery life brilliant...</td>\n",
              "      <td>[ brilliant camera huge battery life brilliant...</td>\n",
              "      <td>[ brilliant camera huge battery life brilliant...</td>\n",
              "      <td>0</td>\n",
              "      <td>0</td>\n",
              "      <td>0</td>\n",
              "      <td>0</td>\n",
              "      <td>1</td>\n",
              "    </tr>\n",
              "    <tr>\n",
              "      <th>3</th>\n",
              "      <td>writing review using 6 daysi bought sumsung p...</td>\n",
              "      <td>writing review using 6 daysi bought sumsung p...</td>\n",
              "      <td>[ writing review using 6 daysi bought sumsung ...</td>\n",
              "      <td>[ writing review using 6 daysi bought sumsung ...</td>\n",
              "      <td>[ writing review using 6 daysi bought sumsung ...</td>\n",
              "      <td>[ writing review using 6 daysi bought sumsung ...</td>\n",
              "      <td>0</td>\n",
              "      <td>0</td>\n",
              "      <td>1</td>\n",
              "      <td>0</td>\n",
              "      <td>0</td>\n",
              "    </tr>\n",
              "    <tr>\n",
              "      <th>4</th>\n",
              "      <td>defective product received gets 8 12 hours ch...</td>\n",
              "      <td>defective product received gets 8 12 hours ch...</td>\n",
              "      <td>[ defective product received gets 8 12 hours c...</td>\n",
              "      <td>[ defective product received gets 8 12 hours c...</td>\n",
              "      <td>[ defective product received gets 8 12 hours c...</td>\n",
              "      <td>[ defective product received gets 8 12 hours c...</td>\n",
              "      <td>1</td>\n",
              "      <td>0</td>\n",
              "      <td>0</td>\n",
              "      <td>0</td>\n",
              "      <td>0</td>\n",
              "    </tr>\n",
              "  </tbody>\n",
              "</table>\n",
              "</div>"
            ],
            "text/plain": [
              "                                                body  ...  5\n",
              "0   update 15082020never give chance regret go ah...  ...  0\n",
              "1        title obviously monsterand good performance  ...  1\n",
              "2   brilliant camera huge battery life brilliant ...  ...  1\n",
              "3   writing review using 6 daysi bought sumsung p...  ...  0\n",
              "4   defective product received gets 8 12 hours ch...  ...  0\n",
              "\n",
              "[5 rows x 11 columns]"
            ]
          },
          "metadata": {},
          "execution_count": 13
        }
      ]
    },
    {
      "cell_type": "code",
      "metadata": {
        "id": "tIYUu-1nc3tO"
      },
      "source": [
        "deskripsi = df_baru['body'].values\n",
        "label = df_baru[[1,2,3,4,5]].values"
      ],
      "execution_count": 14,
      "outputs": []
    },
    {
      "cell_type": "code",
      "metadata": {
        "id": "uvhi0gDMdF7I"
      },
      "source": [
        "deskripsi_latih, deskripsi_test, label_latih, label_test = train_test_split(deskripsi, label, test_size=0.2)"
      ],
      "execution_count": 15,
      "outputs": []
    },
    {
      "cell_type": "code",
      "metadata": {
        "id": "40iSyKyBdUCC"
      },
      "source": [
        "tokenizer = Tokenizer(num_words=5000)\n",
        "tokenizer.fit_on_texts(deskripsi_latih)\n",
        "tokenizer.fit_on_texts(deskripsi_test)\n",
        " \n",
        "sekuens_latih = tokenizer.texts_to_sequences(deskripsi_latih)\n",
        "sekuens_test = tokenizer.texts_to_sequences(deskripsi_test)\n",
        " \n",
        "padded_latih = pad_sequences(sekuens_latih) \n",
        "padded_test = pad_sequences(sekuens_test)"
      ],
      "execution_count": 16,
      "outputs": []
    },
    {
      "cell_type": "code",
      "metadata": {
        "id": "M3I7sGytdia0"
      },
      "source": [
        "model = tf.keras.Sequential([\n",
        "    tf.keras.layers.Embedding(input_dim=5000, output_dim=16),\n",
        "    tf.keras.layers.LSTM(128),\n",
        "    tf.keras.layers.Dense(128, activation='relu', input_shape=(6,)),\n",
        "    tf.keras.layers.Dense(64, activation='relu'),\n",
        "    tf.keras.layers.Dropout(0.2),\n",
        "    tf.keras.layers.Dense(5, activation='softmax')\n",
        "])\n",
        "\n",
        "model.compile(loss='categorical_crossentropy', \n",
        "              optimizer='adam',\n",
        "              metrics=['accuracy'])"
      ],
      "execution_count": 17,
      "outputs": []
    },
    {
      "cell_type": "code",
      "metadata": {
        "id": "3IN4066sdlja"
      },
      "source": [
        "class myCallback(tf.keras.callbacks.Callback):\n",
        "  def on_epoch_end(self, epoch, logs={}):\n",
        "     if(logs.get('accuracy') > 0.90 and logs.get('val_accuracy') > 0.90):\n",
        "      print('\\n Akurasi telah mencapai > 90%')\n",
        "      self.model_stop_training = True\n",
        "callbacks = myCallback()"
      ],
      "execution_count": 18,
      "outputs": []
    },
    {
      "cell_type": "code",
      "metadata": {
        "colab": {
          "base_uri": "https://localhost:8080/"
        },
        "id": "BLaI3t4Wdoay",
        "outputId": "0275edad-484f-414b-ba46-137cd30f522a"
      },
      "source": [
        "hist = model.fit(padded_latih, label_latih, epochs=5, \n",
        "                 validation_data=(padded_test, label_test),\n",
        "                 validation_split=0.2,\n",
        "                 verbose=2,\n",
        "                 batch_size=64,\n",
        "                 callbacks=[callbacks])"
      ],
      "execution_count": 19,
      "outputs": [
        {
          "output_type": "stream",
          "name": "stdout",
          "text": [
            "Epoch 1/5\n",
            "173/173 - 247s - loss: 0.9142 - accuracy: 0.6445 - val_loss: 0.3124 - val_accuracy: 0.8942\n",
            "Epoch 2/5\n",
            "173/173 - 222s - loss: 0.1939 - accuracy: 0.9406 - val_loss: 0.1400 - val_accuracy: 0.9569\n",
            "\n",
            " Akurasi telah mencapai > 90%\n",
            "Epoch 3/5\n",
            "173/173 - 225s - loss: 0.0959 - accuracy: 0.9722 - val_loss: 0.0783 - val_accuracy: 0.9743\n",
            "\n",
            " Akurasi telah mencapai > 90%\n",
            "Epoch 4/5\n",
            "173/173 - 242s - loss: 0.0644 - accuracy: 0.9795 - val_loss: 0.0645 - val_accuracy: 0.9826\n",
            "\n",
            " Akurasi telah mencapai > 90%\n",
            "Epoch 5/5\n",
            "173/173 - 237s - loss: 0.0402 - accuracy: 0.9876 - val_loss: 0.0457 - val_accuracy: 0.9866\n",
            "\n",
            " Akurasi telah mencapai > 90%\n"
          ]
        }
      ]
    },
    {
      "cell_type": "code",
      "metadata": {
        "id": "_KH9f74egNz5",
        "colab": {
          "base_uri": "https://localhost:8080/",
          "height": 543
        },
        "outputId": "82721616-0800-4d66-aa04-5261e9d5f63e"
      },
      "source": [
        "plt.plot(hist.history['accuracy'])\n",
        "plt.plot(hist.history['val_accuracy'])\n",
        "plt.title('Model Accuracy')\n",
        "plt.ylabel('Accuracy')\n",
        "plt.xlabel('Epoch')\n",
        "plt.legend(['Train','Validation'], loc='bottom right')\n",
        "plt.show()"
      ],
      "execution_count": 20,
      "outputs": [
        {
          "output_type": "stream",
          "name": "stderr",
          "text": [
            "/usr/local/lib/python3.7/dist-packages/ipykernel_launcher.py:6: MatplotlibDeprecationWarning: Unrecognized location 'bottom right'. Falling back on 'best'; valid locations are\n",
            "\tbest\n",
            "\tupper right\n",
            "\tupper left\n",
            "\tlower left\n",
            "\tlower right\n",
            "\tright\n",
            "\tcenter left\n",
            "\tcenter right\n",
            "\tlower center\n",
            "\tupper center\n",
            "\tcenter\n",
            "This will raise an exception in 3.3.\n",
            "  \n"
          ]
        },
        {
          "output_type": "display_data",
          "data": {
            "image/png": "[encoded data removed]",
            "text/plain": [
              "<Figure size 432x288 with 1 Axes>"
            ]
          },
          "metadata": {}
        }
      ]
    },
    {
      "cell_type": "code",
      "metadata": {
        "id": "EIgr1EHSgP8G",
        "colab": {
          "base_uri": "https://localhost:8080/",
          "height": 294
        },
        "outputId": "ea76f3d1-896f-4cf6-a0c3-bd19b052e435"
      },
      "source": [
        "plt.plot(hist.history['loss'])\n",
        "plt.plot(hist.history['val_loss'])\n",
        "plt.title('Model loss')\n",
        "plt.ylabel('Loss')\n",
        "plt.xlabel('Epoch')\n",
        "plt.legend(['Train','Validation'], loc='upper right')\n",
        "plt.show()"
      ],
      "execution_count": 21,
      "outputs": [
        {
          "output_type": "display_data",
          "data": {
            "image/png": "[encoded data removed]",
            "text/plain": [
              "<Figure size 432x288 with 1 Axes>"
            ]
          },
          "metadata": {}
        }
      ]
    }
  ]
}